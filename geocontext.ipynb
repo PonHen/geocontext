{
 "cells": [
  {
   "cell_type": "markdown",
   "metadata": {},
   "source": [
    "# An introduction to <i>geocontext</i> \n",
    "### Pontus Hennerdal, January 2019\n",
    "\n",
    "This notebook can be used for importing a CSV-file (<i>points</i>) and calculating the geographical context around each point in that file. The geographical context is the k-nearest neighbours in another CSV-file (<i>popLocations</i>, could also be the same file). If the values of the groups in the populated locations is higher then 1, the <i>geocontext</i> function calculates the proportion of the k-nearest neighbours being a part of this group. If the values is between 0 and 1, the function calculates a weighted average and standard deviation for each point among the k-nearest neighbours.\n",
    "\n",
    "Using the notion used in <i>Hennerdal & Nielsen (2017) http://dx.doi.org/10.1080/24694452.2016.1261685</i>: If $t(x_{i})$ is defined as the total number of inviduals in the location $x_{i}$, we can express the calculation made by this script as statistics calculated for every set $N_{j,k}$ of locations $x_{i}$ located within the distance $r_{j,k}$ from $x_{j}$.\n",
    "\n",
    "$$N_{j,k} = \\left\\{x_{i} \\in \\mathbb{R}^{2} : | x_{i}-x_{j} | \\leq r_{j,k} \\right\\}$$\n",
    "\n",
    "When $r_{j,k}$ is the smallest possible but the the following criteria that the sum of individuals in the set of locations $N_{j,k}$ is the same or larger than the value $k$ is met.\n",
    "\n",
    "$$k \\leq \\sum_{x_{i} \\in N_{j,k}}t(x_{i})$$\n",
    "\n",
    "This is the same as calculating statistics (e.g. proportion or average and standard deviation) among the k-nearest neighbours for a set of locations.\n",
    "\n",
    "### Using this Jupyter Notebook\n",
    "Use this Jupyter Notebook by <b>changing the names or values marked with CHANGE in the <i>Read files section</i></b> and preferable also in the <i>Saving the results as a CSV section</i>.\n",
    "\n",
    "Run cell by pressing SHIFT and ENTER.\n",
    "\n",
    "If using this script for a publication. Please refer to it as: <i>P. Hennerdal, geocontext (2019), GitHub repository, https://github.com/PonHen/geocontext</i>"
   ]
  },
  {
   "cell_type": "markdown",
   "metadata": {},
   "source": [
    "# Importing libraries\n",
    "This first step imports some external libraries needed to run the functions in this Jupyter Notebook."
   ]
  },
  {
   "cell_type": "code",
   "execution_count": null,
   "metadata": {},
   "outputs": [],
   "source": [
    "import pandas as pd # This library is used to handle data frames.\n",
    "import math # This library including mathematical functions.\n",
    "import numpy as np # This library including more mathematical functions.\n",
    "import time # This library is used to measure the time to run the script.\n",
    "import matplotlib.pyplot as plt # This library is used for plotting results."
   ]
  },
  {
   "cell_type": "markdown",
   "metadata": {},
   "source": [
    "# Defining the <i>geocontext</i> function"
   ]
  },
  {
   "cell_type": "code",
   "execution_count": null,
   "metadata": {},
   "outputs": [],
   "source": [
    "def geocontext(points,\n",
    "               popLocations,\n",
    "               groups,\n",
    "               populations,\n",
    "               kValues,\n",
    "               pointsNorth='North',\n",
    "               pointsEast='East',\n",
    "               popLocationsNorth='North',\n",
    "               popLocationsEast='East'):\n",
    "    \"\"\"Calculates the geographical context for each point and return a DataFrame.\n",
    "    \n",
    "    This function calculate the geographical context around each point in \n",
    "    the pandas DataFrame points. The context is the proportion of the \n",
    "    population among the k-nearest neighbours in the pandas DataFrame \n",
    "    popLocations that is part of a group, if the values of the groups \n",
    "    represents the absoulte number of indivuduals being part of a group.\n",
    "    However, if the values of the groups represents a value between 0 and 1,\n",
    "    the context is the weighted average and standard deviation for the\n",
    "    k-nearest neighbours. The distances is measured as the Euclidean distance.\n",
    "\n",
    "    Keyword arguments:\n",
    "    points            -- pandas DataFrame with coordinates\n",
    "    popLocations      -- pandas DataFrame with coordinates, values and populations\n",
    "    groups            -- list with strings naming the columns holding the values\n",
    "    populations       -- list with strings naming the columns holding the populations\n",
    "    kValues           -- list with integers being the k in the k-nearest neighbours\n",
    "    pointsNorth       -- string naming of the column (default 'North')\n",
    "    pointsEast        -- string naming of the column (default 'East')\n",
    "    popLocationsNorth -- string naming of the column (default 'North')\n",
    "    popLocationsEast  -- string naming of the column (default 'East')\n",
    "    \"\"\"\n",
    "    \n",
    "    # Checking the format of the variables.\n",
    "    if type(groups) != list: \n",
    "        raise TypeError('groups need to be a list with column names')\n",
    "    \n",
    "    if type(populations) == list:\n",
    "        if len(populations) == 1:\n",
    "            multi = False\n",
    "        else:\n",
    "            multi = True \n",
    "            if len(groups) != len(populations):\n",
    "                raise IndexError('populations need to have the same length as groups')\n",
    "    else:\n",
    "        raise TypeError('populations need to be a column name or a list with column names')\n",
    "          \n",
    "    if type(kValues) != list: \n",
    "        raise TypeError('kValues need to be a list with k-values')\n",
    "    \n",
    "    # Create a list stating for each group if it is True or not that the proportion\n",
    "    # will be calculated. If False, the average and standard deviation will be calculated.\n",
    "    prop_List = []\n",
    "    for group in groups:\n",
    "        if popLocations[group].max() <= 1:\n",
    "            prop_List.append(False)\n",
    "        else:\n",
    "            prop_List.append(True)\n",
    "    \n",
    "    # To make sure the k-values are listed ascending, the list with k-values \n",
    "    # is sorted.\n",
    "    kValues.sort()\n",
    "    \n",
    "    # Creating space in the points for radius, total, and group \n",
    "    # count for every k-value.\n",
    "    groupIndex = 0\n",
    "    for group in groups:\n",
    "        for kValue in kValues:\n",
    "            if prop_List[groupIndex]:\n",
    "                points[f'group_{group}_k{kValue}'] = 0\n",
    "            else:\n",
    "                points[f'mean_{group}_k{kValue}'] = 0.0\n",
    "                points[f'std_{group}_k{kValue}'] = 0.0\n",
    "            \n",
    "            if multi:\n",
    "                points[f'radius_{group}_k{kValue}'] = 0\n",
    "                points[f'total_{group}_k{kValue}'] = 0\n",
    "            else:\n",
    "                points[f'radius_k{kValue}'] = 0\n",
    "                points[f'total_k{kValue}'] = 0\n",
    "        groupIndex += 1\n",
    "    \n",
    "    # Creating space in the popLocations for distance to a point. \n",
    "    # This column will be changed for every point in points.\n",
    "    popLocations['Distance'] = 0\n",
    "    \n",
    "    # For every point in points.\n",
    "    for pointIndex in range(len(points)):\n",
    "        # Find the coordinates for the point\n",
    "        startPointNorth = points[pointsNorth].iloc[pointIndex]\n",
    "        startPointEast = points[pointsEast].iloc[pointIndex]\n",
    "        \n",
    "        # Calculate the Euclidean distance from the point to every populated \n",
    "        # location in popLocations.\n",
    "        popLocations['Distance'] = np.sqrt(\n",
    "            np.power(startPointNorth - popLocations[popLocationsNorth], 2) \n",
    "            + np.power(startPointEast - popLocations[popLocationsEast], 2)).astype('int')\n",
    "        \n",
    "        # Sort populated locations by distance to the point.\n",
    "        popLocations.sort_values('Distance', inplace=True) \n",
    "        \n",
    "        # For every column used to sum up to the k-value\n",
    "        groupIndex = 0\n",
    "        for pop_Column in populations:\n",
    "            \n",
    "            # Set start values for every point (and category of totals)\n",
    "            radius_List = []\n",
    "            population = 0 # This is the value that values will be added to until it is larger than k\n",
    "            index = 0 # This index will relate to the populated locations sorted from nearest\n",
    "        \n",
    "            # Going through every k-value in the list. \n",
    "            for kValue in kValues:\n",
    "                \n",
    "                # While the poplation is lower than the k-value\n",
    "                while population < kValue:\n",
    "                    # Add the population of that populated location\n",
    "                    population += popLocations[pop_Column].iloc[index]\n",
    "                    index += 1\n",
    "            \n",
    "                # When the population is larger than the k-value: save the \n",
    "                # radius to the radius_List.\n",
    "                radius = popLocations['Distance'].iloc[index - 1]\n",
    "                radius_List.append(radius)\n",
    "                if multi:\n",
    "                    points[f'radius_{groups[groupIndex]}_k{kValue}'].iat[pointIndex] = radius\n",
    "                else:\n",
    "                    points[f'radius_k{kValue}'].iat[pointIndex] = radius\n",
    "\n",
    "            # When the the max radius for all k-values are found: go through \n",
    "            # every k-value in the list again.\n",
    "            for k_Index in range(len(kValues)):\n",
    "                # For each k-value, select all populated locations upp to \n",
    "                # the previous found max distance.\n",
    "                selection = popLocations[popLocations['Distance'] <= radius_List[k_Index]]\n",
    "            \n",
    "                # For each group, calculate the sum of that group among the \n",
    "                # selected nearest neighbours.\n",
    "                if multi:\n",
    "                    if prop_List[groupIndex]:\n",
    "                        points[\n",
    "                            f'group_{groups[groupIndex]}_k{kValues[k_Index]}'\n",
    "                        ].iat[pointIndex] = selection[groups[groupIndex]].sum()\n",
    "                    else:\n",
    "                        average = np.average(selection[groups[groupIndex]], \n",
    "                                             weights=selection[pop_Column])\n",
    "                        variance = np.average((selection[groups[groupIndex]] - average)**2, \n",
    "                                              weights=selection[pop_Column])\n",
    "                        \n",
    "                        points[\n",
    "                            f'mean_{groups[groupIndex]}_k{kValues[k_Index]}'\n",
    "                        ].iat[pointIndex] = average\n",
    "                        points[\n",
    "                            f'std_{groups[groupIndex]}_k{kValues[k_Index]}'\n",
    "                        ].iat[pointIndex] = math.sqrt(variance)\n",
    "                else:\n",
    "                    for group in groups:\n",
    "                        if prop_List[groupIndex]:\n",
    "                            points[\n",
    "                                f'group_{group}_k{kValues[k_Index]}'\n",
    "                            ].iat[pointIndex] = selection[group].sum()\n",
    "                        else:\n",
    "                            average = np.average(selection[group], \n",
    "                                                 weights=selection[pop_Column])\n",
    "                            variance = np.average((selection[group] - average)**2, \n",
    "                                                  weights=selection[pop_Column])\n",
    "                            points[\n",
    "                                f'mean_{group}_k{kValues[k_Index]}'\n",
    "                            ].iat[pointIndex] = average\n",
    "                            points[\n",
    "                                f'std_{group}_k{kValues[k_Index]}'\n",
    "                            ].iat[pointIndex] = math.sqrt(variance)\n",
    "            \n",
    "                # Calculate the sum of selected nearest neighbours\n",
    "                if multi:\n",
    "                    points[\n",
    "                        f'total_{groups[groupIndex]}_k{kValues[k_Index]}'\n",
    "                    ].iat[pointIndex] = selection[pop_Column].sum() \n",
    "                else:\n",
    "                    points[\n",
    "                        'total_k'+str(kValues[k_Index])\n",
    "                    ].iat[pointIndex] = selection[pop_Column].sum() \n",
    "            \n",
    "            groupIndex += 1\n",
    "\n",
    "    # Calculate the proportion those groups are of the total amount of \n",
    "    # neighbours. If statistics=True, also other statistics are \n",
    "    # calculated.\n",
    "    for kValue in kValues:\n",
    "        groupIndex = 0\n",
    "        for group in groups:\n",
    "            if prop_List[groupIndex]:\n",
    "                if multi:\n",
    "                    points[f'mean_{group}_k{kValue}'] = points[\n",
    "                        f'group_{group}_k{kValue}'] / points[f'total_{group}_k{kValue}']\n",
    "                else:\n",
    "                    points[f'mean_{group}_k{kValue}'] = points[\n",
    "                        f'group_{group}_k{kValue}'] / points[f'total_k{kValue}']\n",
    "            groupIndex += 1\n",
    "    \n",
    "    # The function returns points with the added columns.\n",
    "      \n",
    "    return points"
   ]
  },
  {
   "cell_type": "markdown",
   "metadata": {},
   "source": [
    "# Read files (CHANGE)\n",
    "### Read file with points\n",
    "The cell below is reading a CSV-file with the points the context will be calculated around and save it as the pandas DataFrame <i>pointsNoContextDF</i>. The file need to be located in the same folder as the Jupyter Notebook and the code in the cell need to be changed to match the name of the CSV-file and the delimiter used in that file.\n",
    "```python\n",
    "pointsNoContextDF = pd.read_csv('FILE_NAME.csv', delimiter=',')\n",
    "```\n",
    "After running the cell you can see the column names and the first five rows. Find the names of the columns holding the coordinates for North and East respectivly. Change the code in the next cell to match the names of the columns.\n",
    "```python\n",
    "points_NorthColumnName = 'NAME_OF_COLUMN_NORTH'\n",
    "points_EastColumnName = 'NAME_OF_COLUMN_EAST'\n",
    "```"
   ]
  },
  {
   "cell_type": "code",
   "execution_count": null,
   "metadata": {},
   "outputs": [],
   "source": [
    "# Reads the file. The file should be saved in the same folder \n",
    "# as this jupyter notebook.\n",
    "pointsNoContextDF = pd.read_csv('CHANGE.csv', delimiter='CHANGE')\n",
    "\n",
    "print(f'There is {len(pointsNoContextDF)} rows, here is the first 5:')\n",
    "pointsNoContextDF.head()"
   ]
  },
  {
   "cell_type": "code",
   "execution_count": null,
   "metadata": {},
   "outputs": [],
   "source": [
    "pointsNorthName = 'CHANGE'\n",
    "pointsEastName = 'CHANGE'"
   ]
  },
  {
   "cell_type": "markdown",
   "metadata": {},
   "source": [
    "### Read file with populated locations\n",
    "The cell below is reading a CSV-file with the the populated locations that constitutes the context and save it as the pandas DataFrame <i>popLocationsDF</i>. The file need to be located in the same folder as the Jupyter Notebook and the code in the cell need to be changed to match the name of the CSV-file and the delimiter used in that file.\n",
    "```python\n",
    "popLocations = pd.read_csv('FILE_NAME_OF_OUTPUT_FILE.csv', delimiter=',')\n",
    "```"
   ]
  },
  {
   "cell_type": "code",
   "execution_count": null,
   "metadata": {},
   "outputs": [],
   "source": [
    "# Reads the file. The file should be saved in the same folder \n",
    "# as this jupyter notebook.\n",
    "popLocationsDF = pd.read_csv('CHANGE.csv', delimiter='CHANGE')\n",
    "\n",
    "print(f'There is {len(popLocationsDF)} rows, here is the first 5:')\n",
    "popLocationsDF.head()"
   ]
  },
  {
   "cell_type": "markdown",
   "metadata": {},
   "source": [
    "Look att the column names in the file with populated locations that can be seen above after reading the file. Below, list the groups you want to include in the calculation. For example:\n",
    "```python\n",
    "groupList = ['NAME_OF_COLUMN_CATEGORY1', \n",
    "             'NAME_OF_COLUMN_CATEGORY2', \n",
    "             'NAME_OF_COLUMN_CATEGORY3']\n",
    "```\n",
    "If there is only one column stating the total population for the populated location, vrite the name as a string in the list <i>populationList</i>\n",
    "```python\n",
    "populationList = ['NAME_OF_COLUMN_TOTAL_POPULATION']\n",
    "```\n",
    "If the total population differ between different groups (for example if the groups is for different years and the total population differ between different years), then make <i>populationList</i> a list with the column with the same length as <i>groupList</i> and with the column names for the coresponding total populations. \n",
    "```python\n",
    "populationList = ['NAME_OF_COLUMN_TOTAL_POPULATION_CATEGORY1', \n",
    "                  'NAME_OF_COLUMN_TOTAL_POPULATION_CATEGORY2', \n",
    "                  'NAME_OF_COLUMN_TOTAL_POPULATION_CATEGORY3']\n",
    "```\n",
    "Find the names of the columns holding the coordinates for North and East respectivly. Change the code in the next cell to match the names of the columns.\n",
    "```python\n",
    "popLocationsNorthName = 'NAME_OF_COLUMN_NORTH_COORDINATE'\n",
    "popLocationsEastName = 'NAME_OF_COLUMN_EAST_COORDINATE'\n",
    "```"
   ]
  },
  {
   "cell_type": "code",
   "execution_count": null,
   "metadata": {},
   "outputs": [],
   "source": [
    "groupList = ['CHANGE', 'CHANGE', 'CHANGE']\n",
    "populationList = ['CHANGE']\n",
    "#populationList = ['CHANGE', 'CHANGE', 'CHANGE']\n",
    "popLocationsNorthName = 'CHANGE'\n",
    "popLocationsEastName = 'CHANGE'"
   ]
  },
  {
   "cell_type": "markdown",
   "metadata": {},
   "source": [
    "The list of k-values contains the size of the context. If k=1000, statistics will be calculated for the 1000 nearest neighbours for every point in the python DataFrame <i>pointsNoContextDF</i>.\n",
    "```python\n",
    "kValueList = [1000, 10000] \n",
    "```"
   ]
  },
  {
   "cell_type": "code",
   "execution_count": null,
   "metadata": {},
   "outputs": [],
   "source": [
    "kValueList = [CHANGE, CHANGE]"
   ]
  },
  {
   "cell_type": "markdown",
   "metadata": {},
   "source": [
    "# The actual calculations\n",
    "Use the above defined function to calculate geographical context around each point."
   ]
  },
  {
   "cell_type": "code",
   "execution_count": null,
   "metadata": {},
   "outputs": [],
   "source": [
    "# Start the stopwatch.\n",
    "time0 = time.time()\n",
    "\n",
    "# The actual calculation of the geographical context.\n",
    "pointsWithContext = geocontext(points=pointsNoContextDF,\n",
    "                               popLocations=popLocationsDF, \n",
    "                               groups=groupList, \n",
    "                               populations=populationList,\n",
    "                               kValues=kValueList,\n",
    "                               pointsNorth=pointsNorthName,\n",
    "                               pointsEast=pointsEastName,\n",
    "                               popLocationsNorth=popLocationsNorthName,\n",
    "                               popLocationsEast=popLocationsEastName)\n",
    "\n",
    "# Print the time for the calulation.\n",
    "print(f'{round(time.time() - time0)} seconds')"
   ]
  },
  {
   "cell_type": "markdown",
   "metadata": {},
   "source": [
    "# Results\n",
    "\n",
    "### Some statistics"
   ]
  },
  {
   "cell_type": "code",
   "execution_count": null,
   "metadata": {},
   "outputs": [],
   "source": [
    "pointsWithContext.describe(percentiles=[0.5]).transpose()"
   ]
  },
  {
   "cell_type": "markdown",
   "metadata": {},
   "source": [
    "### The result as a table"
   ]
  },
  {
   "cell_type": "code",
   "execution_count": null,
   "metadata": {},
   "outputs": [],
   "source": [
    "pointsWithContext"
   ]
  },
  {
   "cell_type": "markdown",
   "metadata": {},
   "source": [
    "### Plotting the result\n",
    "As default, the plot will show the first group with the largest k-value. "
   ]
  },
  {
   "cell_type": "code",
   "execution_count": null,
   "metadata": {},
   "outputs": [],
   "source": [
    "plotWidth = 1.5 + (10 \n",
    "                   * (pointsWithContext[pointsEastName].max() \n",
    "                      - pointsWithContext[pointsEastName].min()) \n",
    "                   / (pointsWithContext[pointsNorthName].max() \n",
    "                      - pointsWithContext[pointsNorthName].min()))\n",
    "\n",
    "plt.rcParams['figure.figsize'] = [plotWidth, 10]\n",
    "\n",
    "pointsWithContext.plot.scatter(x=pointsEastName, \n",
    "                               y=pointsNorthName, \n",
    "                               c=f'mean_{groupList[0]}_k{kValueList[-1]}', \n",
    "                               colormap='viridis', s=1);"
   ]
  },
  {
   "cell_type": "markdown",
   "metadata": {},
   "source": [
    "# Saving the results as a CSV (CHANGE)\n",
    "The file with the results will be saved as a CSV-file in the same folder as the Jupyter Notebook. Change the name of the file in the code below.\n",
    "```python\n",
    "points.to_csv('FILE_NAME_OF_OUTPUT_FILE.csv')\n",
    "```"
   ]
  },
  {
   "cell_type": "code",
   "execution_count": null,
   "metadata": {},
   "outputs": [],
   "source": [
    "pointsWithContext.to_csv('CHANGE.csv')"
   ]
  }
 ],
 "metadata": {
  "kernelspec": {
   "display_name": "Python 3",
   "language": "python",
   "name": "python3"
  },
  "language_info": {
   "codemirror_mode": {
    "name": "ipython",
    "version": 3
   },
   "file_extension": ".py",
   "mimetype": "text/x-python",
   "name": "python",
   "nbconvert_exporter": "python",
   "pygments_lexer": "ipython3",
   "version": "3.7.1"
  }
 },
 "nbformat": 4,
 "nbformat_minor": 2
}
