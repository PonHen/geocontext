{
 "cells": [
  {
   "cell_type": "markdown",
   "metadata": {},
   "source": [
    "This Jupyter Notebook can be used for importing a CSV-file and calculating the geographical context around each point in that file. The geographical context is the proportion of the population among the k-nearest neighbours in another CSV-file (could be the same) that is part of a group.\n",
    "\n",
    "Use the Jupyter Notebook by changing the names or values marked with CHANGE in the <i>Read files section</i> and preferable also in the <i>Saving the results as a CSV section</i>.\n",
    "\n",
    "Run cell by pressing SHIFT and ENTER."
   ]
  },
  {
   "cell_type": "markdown",
   "metadata": {},
   "source": [
    "### Importing libraries"
   ]
  },
  {
   "cell_type": "code",
   "execution_count": null,
   "metadata": {},
   "outputs": [],
   "source": [
    "import pandas as pd # This library is used to handle data frames.\n",
    "import numpy as np # This library is used for aplaying mathematical functions on datasets.\n",
    "import time # This library is used to measure the time to run the script.\n",
    "import matplotlib.pyplot as plt # This library is used when plotting of the result."
   ]
  },
  {
   "cell_type": "markdown",
   "metadata": {},
   "source": [
    "# Defining the <i>kNearest_context</i> function"
   ]
  },
  {
   "cell_type": "code",
   "execution_count": null,
   "metadata": {},
   "outputs": [],
   "source": [
    "def kNearest_context(points_DataFrame,\n",
    "                     popLocations_DataFrame,\n",
    "                     group_List,\n",
    "                     pop_Column,\n",
    "                     kValue_List,\n",
    "                     points_NorthColumn='North',\n",
    "                     points_EastColumn='East',\n",
    "                     popLocations_NorthColumn='North',\n",
    "                     popLocations_EastColumn='East'):\n",
    "    \"\"\"This function calculate the geographical context around each point in the points_DataFrame. The context is the proportion of the population among the k-nearest neighbours in the popLocations_DataFrame that is part of a group. Distance is measured as the Euclidean distance.\"\"\"\n",
    "    \n",
    "    # To make sure the k-values are listed ascending, the list with k-values is sorted.\n",
    "    kValue_List.sort()\n",
    "    \n",
    "    # Creating space in the points_DataFrame for radius, total, and group count for every k-value.\n",
    "    for kValue in kValue_List:\n",
    "        points_DataFrame['radius_k'+str(kValue)] = 0\n",
    "        points_DataFrame['total_k'+str(kValue)] = 0\n",
    "        for group in group_List:\n",
    "            points['group_'+group+'_k'+str(kValue)] = 0\n",
    "    \n",
    "    # Creating space in the popLocations_DataFrame for distance to a point. This column will be changed for every point in points_DataFrame.\n",
    "    popLocations_DataFrame['Distance'] = 0\n",
    "    \n",
    "    # For every point in points_DataFrame.\n",
    "    for pointIndex in range(len(points_DataFrame)):\n",
    "        # Find the coordinates for the point\n",
    "        North0 = points_DataFrame[points_NorthColumn].iloc[pointIndex]\n",
    "        East0 = points_DataFrame[points_EastColumn].iloc[pointIndex]\n",
    "        \n",
    "        # Calculate the Euclidean distance from the point to every populated location in popLocations_DataFrame.\n",
    "        popLocations_DataFrame['Distance'] = np.sqrt(np.power(North0-popLocations_DataFrame[popLocations_NorthColumn], 2) + np.power(East0-popLocations_DataFrame[popLocations_EastColumn], 2)).astype('int')\n",
    "        \n",
    "        # Sort populated locations by distance to the point.\n",
    "        popLocations_DataFrame.sort_values('Distance', inplace=True)\n",
    "        \n",
    "        # Set start values for every point.\n",
    "        radius_List = []\n",
    "        population = 0\n",
    "        index = 0\n",
    "        \n",
    "        # Going through every k-value in the list. \n",
    "        for kValue in kValue_List:\n",
    "            # While the poplation is lower than the k-value\n",
    "            while population < kValue:\n",
    "                # Add the population of that populated location\n",
    "                population += popLocations_DataFrame[pop_Column].iloc[index]\n",
    "                index += 1\n",
    "            \n",
    "            # When the population is larger than the k-value: save the radius to the radius_List.\n",
    "            radius = popLocations_DataFrame['Distance'].iloc[index-1]\n",
    "            radius_List.append(radius)\n",
    "            points_DataFrame['radius_k'+str(kValue)].iat[pointIndex] = radius\n",
    "\n",
    "        # When the the max radius for all k-values are found: go through every k-value in the list again.\n",
    "        for k_Index in range(len(kValue_List)):\n",
    "            # For each k-value, select all populated locations upp to the previous found max distance.\n",
    "            selection = popLocations_DataFrame[popLocations_DataFrame['Distance'] <= radius_List[k_Index]]\n",
    "            \n",
    "            # For each group, calculate the sum of that group among the selected nearest neighbours.\n",
    "            for group in group_List:\n",
    "                points_DataFrame['group_'+group+'_k'+str(kValue_List[k_Index])].iat[pointIndex] = selection[group].sum()\n",
    "            \n",
    "            # Calculate the sum of selected nearest neighbours\n",
    "            points_DataFrame['total_k'+str(kValue_List[k_Index])].iat[pointIndex] = selection[pop_Column].sum()\n",
    "\n",
    "    # Calculate the proportion those groups are of the total amount of neighbours.\n",
    "    for kValue in kValue_List:\n",
    "        for group in group_List:\n",
    "            points_DataFrame['prop_'+group+'_k'+str(kValue)] = points_DataFrame['group_'+group+'_k'+str(kValue)]/points_DataFrame['total_k'+str(kValue)]\n",
    "    \n",
    "    # The function returns points_DataFrame with the added columns.\n",
    "    return points_DataFrame"
   ]
  },
  {
   "cell_type": "markdown",
   "metadata": {},
   "source": [
    "# Read files (CHANGE)"
   ]
  },
  {
   "cell_type": "markdown",
   "metadata": {},
   "source": [
    "### Read file with points"
   ]
  },
  {
   "cell_type": "code",
   "execution_count": null,
   "metadata": {},
   "outputs": [],
   "source": [
    "# Reads the file. The file should be saved in the same folder as this jupyter notebook.\n",
    "points = pd.read_csv('CHANGE_filenamePoints.csv', delimiter=',')\n",
    "\n",
    "points.head()"
   ]
  },
  {
   "cell_type": "code",
   "execution_count": null,
   "metadata": {},
   "outputs": [],
   "source": [
    "points_NorthColumnName='CHANGE_North'\n",
    "points_EastColumnName='CHANGE_East'"
   ]
  },
  {
   "cell_type": "markdown",
   "metadata": {},
   "source": [
    "### Read file with populated locations"
   ]
  },
  {
   "cell_type": "code",
   "execution_count": null,
   "metadata": {},
   "outputs": [],
   "source": [
    "# Reads the file. The file should be saved in the same folder as this jupyter notebook.\n",
    "popLocations = pd.read_csv('CHANGE_filenamePopLocations.csv', delimiter=';')\n",
    "\n",
    "popLocations.head()"
   ]
  },
  {
   "cell_type": "code",
   "execution_count": null,
   "metadata": {},
   "outputs": [],
   "source": [
    "groups = ['CHANGE_colName_Group1', 'CHANGE_colName_Group2', 'CHANGE_colName_Group3']\n",
    "pop_ColumnName = 'CHANGE_colName_TotalPop'\n",
    "popLocations_NorthColumnName='CHANGE_North'\n",
    "popLocations_EastColumnName='CHANGE_East'"
   ]
  },
  {
   "cell_type": "code",
   "execution_count": null,
   "metadata": {},
   "outputs": [],
   "source": [
    "k_values = [1000, 2000, 4000] # CHANGE the k-values"
   ]
  },
  {
   "cell_type": "markdown",
   "metadata": {},
   "source": [
    "# The actual calculations"
   ]
  },
  {
   "cell_type": "markdown",
   "metadata": {},
   "source": [
    "Use the above defined function to calculate geographical context around each point."
   ]
  },
  {
   "cell_type": "code",
   "execution_count": null,
   "metadata": {},
   "outputs": [],
   "source": [
    "# Start the stopwatch.\n",
    "time0 = time.time()\n",
    "\n",
    "# The actual calculation of the geographical context.\n",
    "points = kNearest_context(points_DataFrame = points,\n",
    "                          popLocations_DataFrame = popLocations, \n",
    "                          group_List = groups, \n",
    "                          pop_Column = pop_ColumnName,\n",
    "                          kValue_List = k_values,\n",
    "                          points_NorthColumn = points_NorthColumnName,\n",
    "                          points_EastColumn = points_EastColumnName,\n",
    "                          popLocations_NorthColumn = popLocations_NorthColumnName,\n",
    "                          popLocations_EastColumn = popLocations_EastColumnName)\n",
    "\n",
    "# Print the time for the calulation.\n",
    "print(str(round(time.time()-time0))+' seconds')"
   ]
  },
  {
   "cell_type": "markdown",
   "metadata": {},
   "source": [
    "# Results"
   ]
  },
  {
   "cell_type": "markdown",
   "metadata": {},
   "source": [
    "### The result as a table"
   ]
  },
  {
   "cell_type": "code",
   "execution_count": null,
   "metadata": {},
   "outputs": [],
   "source": [
    "points"
   ]
  },
  {
   "cell_type": "markdown",
   "metadata": {},
   "source": [
    "### Plotting the result"
   ]
  },
  {
   "cell_type": "markdown",
   "metadata": {},
   "source": [
    "As default, the plot will show the first group with the largest k-value. "
   ]
  },
  {
   "cell_type": "code",
   "execution_count": null,
   "metadata": {},
   "outputs": [],
   "source": [
    "plotWidth = 1.5+(10*(points[points_EastColumnName].max()-points[points_EastColumnName].min())/(points[points_NorthColumnName].max()-points[points_NorthColumnName].min()))\n",
    "\n",
    "plt.rcParams['figure.figsize'] = [plotWidth, 10]\n",
    "\n",
    "points.plot.scatter(x=points_EastColumnName, y=points_NorthColumnName, c='prop_'+groups[0]+'_k'+str(k_values[-1]), colormap='viridis', s=1);"
   ]
  },
  {
   "cell_type": "markdown",
   "metadata": {},
   "source": [
    "# Saving the results as a CSV (CHANGE)"
   ]
  },
  {
   "cell_type": "code",
   "execution_count": null,
   "metadata": {},
   "outputs": [],
   "source": [
    "points.to_csv('CHANGE_results.csv')"
   ]
  }
 ],
 "metadata": {
  "kernelspec": {
   "display_name": "Python 3",
   "language": "python",
   "name": "python3"
  },
  "language_info": {
   "codemirror_mode": {
    "name": "ipython",
    "version": 3
   },
   "file_extension": ".py",
   "mimetype": "text/x-python",
   "name": "python",
   "nbconvert_exporter": "python",
   "pygments_lexer": "ipython3",
   "version": "3.6.6"
  }
 },
 "nbformat": 4,
 "nbformat_minor": 2
}
